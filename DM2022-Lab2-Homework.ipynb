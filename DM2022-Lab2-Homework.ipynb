{
 "cells": [
  {
   "cell_type": "markdown",
   "metadata": {},
   "source": [
    "### Student Information\n",
    "Name: 陳漢權\n",
    "\n",
    "Student ID: 108006228\n",
    "\n",
    "GitHub ID: TerrenceAddison\n",
    "\n",
    "Kaggle name: Terrence Addison\n",
    "\n",
    "Kaggle private scoreboard snapshot:\n",
    "\n",
    "[Snapshot](Leaderboard-screenshot.png)"
   ]
  },
  {
   "cell_type": "markdown",
   "metadata": {},
   "source": [
    "---"
   ]
  },
  {
   "cell_type": "markdown",
   "metadata": {},
   "source": [
    "### Instructions"
   ]
  },
  {
   "cell_type": "markdown",
   "metadata": {},
   "source": [
    "1. First: __This part is worth 30% of your grade.__ Do the **take home** exercises in the [DM2022-Lab2-master Repo](https://github.com/keziatamus/DM2022-Lab2-Master). You may need to copy some cells from the Lab notebook to this notebook. \n",
    "\n",
    "\n",
    "2. Second: __This part is worth 30% of your grade.__ Participate in the in-class [Kaggle Competition](https://www.kaggle.com/competitions/dm2022-isa5810-lab2-homework) regarding Emotion Recognition on Twitter by this link https://www.kaggle.com/t/2b0d14a829f340bc88d2660dc602d4bd. The scoring will be given according to your place in the Private Leaderboard ranking: \n",
    "    - **Bottom 40%**: Get 20% of the 30% available for this section.\n",
    "\n",
    "    - **Top 41% - 100%**: Get (60-x)/6 + 20 points, where x is your ranking in the leaderboard (ie. If you rank 3rd your score will be (60-3)/6 + 20 = 29.5% out of 30%)   \n",
    "    Submit your last submission __BEFORE the deadline (Nov. 22th 11:59 pm, Tuesday)_. Make sure to take a screenshot of your position at the end of the competition and store it as '''pic0.png''' under the **img** folder of this repository and rerun the cell **Student Information**.\n",
    "    \n",
    "\n",
    "3. Third: __This part is worth 30% of your grade.__ A report of your work developping the model for the competition (You can use code and comment it). This report should include what your preprocessing steps, the feature engineering steps and an explanation of your model. You can also mention different things you tried and insights you gained. \n",
    "\n",
    "\n",
    "4. Fourth: __This part is worth 10% of your grade.__ It's hard for us to follow if your code is messy :'(, so please **tidy up your notebook** and **add minimal comments where needed**.\n",
    "\n",
    "\n",
    "Upload your files to your repository then submit the link to it on the corresponding e-learn assignment.\n",
    "\n",
    "Make sure to commit and save your changes to your repository __BEFORE the deadline (Nov. 25th 11:59 pm, Friday)__. "
   ]
  },
  {
   "cell_type": "markdown",
   "metadata": {},
   "source": [
    "# First Part\n",
    "can be found under the file `DM2022-Lab2-Master.ipynb`\n"
   ]
  },
  {
   "cell_type": "markdown",
   "metadata": {},
   "source": [
    "# Second Part"
   ]
  },
  {
   "cell_type": "code",
   "execution_count": 49,
   "metadata": {},
   "outputs": [],
   "source": [
    "# import data\n",
    "import pandas as pd\n",
    "identification = pd.read_csv('data-kaggle/data_identification.csv', index_col='tweet_id')\n",
    "emotion = pd.read_csv('data-kaggle/emotion.csv', index_col='tweet_id')\n",
    "tweets = pd.read_json('data-kaggle/tweets_DM.json', lines=True)"
   ]
  },
  {
   "cell_type": "code",
   "execution_count": 27,
   "metadata": {},
   "outputs": [],
   "source": [
    "# take content of source and make it into a dataframe\n",
    "source = tweets['_source']\n",
    "tweet_array = []\n",
    "for tweet in source:\n",
    "    tweet_array.append(tweet['tweet'])\n",
    "tweet_df = pd.DataFrame(tweet_array)\n"
   ]
  },
  {
   "cell_type": "code",
   "execution_count": 28,
   "metadata": {},
   "outputs": [],
   "source": [
    "#combine them with original dataframe then drop the useless columns. Set tweet_id as index.\n",
    "# source is redundant because we took out the data inside, type and index has single unique value therefore also removed\n",
    "tweets = pd.concat([tweets, tweet_df], axis=1)\n",
    "tweets = tweets.drop(columns=['_source', '_index', '_type'])\n",
    "tweets.set_index('tweet_id', inplace=True)"
   ]
  },
  {
   "cell_type": "code",
   "execution_count": 60,
   "metadata": {},
   "outputs": [],
   "source": [
    "# merge identification and emotion data to tweets\n",
    "tweets_df = pd.merge(tweets, identification,on='tweet_id', how='left')\n",
    "tweets_df = pd.merge(tweets_df, emotion,on='tweet_id', how='left')"
   ]
  },
  {
   "cell_type": "code",
   "execution_count": 62,
   "metadata": {},
   "outputs": [
    {
     "name": "stdout",
     "output_type": "stream",
     "text": [
      "1\n"
     ]
    }
   ],
   "source": [
    "#separate data train and test\n",
    "#get index of trains\n",
    "train_index = tweets_df[tweets_df['identification'] == 'train'].index\n",
    "\n",
    "#get train and tweet data\n",
    "train_tweets = tweets_df.loc[train_index]\n",
    "test_tweets = tweets_df.query(\"index not in @train_index\")\n",
    "# item_counts = train_tweets[\"identification\"].nunique() # checks to make sure it's all train data\n",
    "# print(item_counts)\n",
    "# item_counts = test_tweets[\"identification\"].nunique() # checks to make sure it's all test data\n",
    "# print(item_counts)"
   ]
  },
  {
   "cell_type": "markdown",
   "metadata": {},
   "source": [
    "### Feature Extraction\n"
   ]
  },
  {
   "cell_type": "code",
   "execution_count": 2,
   "metadata": {},
   "outputs": [
    {
     "ename": "NameError",
     "evalue": "name 'train_tweets' is not defined",
     "output_type": "error",
     "traceback": [
      "\u001b[1;31m---------------------------------------------------------------------------\u001b[0m",
      "\u001b[1;31mNameError\u001b[0m                                 Traceback (most recent call last)",
      "Cell \u001b[1;32mIn [2], line 2\u001b[0m\n\u001b[0;32m      1\u001b[0m \u001b[38;5;66;03m# change to pkl data\u001b[39;00m\n\u001b[1;32m----> 2\u001b[0m train_tweets\u001b[38;5;241m.\u001b[39mto_pickle(\u001b[38;5;124m\"\u001b[39m\u001b[38;5;124mtrain_tweets.pkl\u001b[39m\u001b[38;5;124m\"\u001b[39m) \n\u001b[0;32m      3\u001b[0m test_tweets\u001b[38;5;241m.\u001b[39mto_pickle(\u001b[38;5;124m\"\u001b[39m\u001b[38;5;124mtest_tweets.pkl\u001b[39m\u001b[38;5;124m\"\u001b[39m)\n",
      "\u001b[1;31mNameError\u001b[0m: name 'train_tweets' is not defined"
     ]
    }
   ],
   "source": [
    "# change to pkl data\n",
    "train_tweets.to_pickle(\"train_tweets.pkl\") \n",
    "test_tweets.to_pickle(\"test_tweets.pkl\")"
   ]
  },
  {
   "cell_type": "code",
   "execution_count": 11,
   "metadata": {},
   "outputs": [],
   "source": [
    "#load pkl data\n",
    "## we have train_tweets and train_tweets_cleaned_v1.pkl That is the one with processed data\n",
    "import pandas as pd\n",
    "train_tweets = pd.read_pickle(\"train_tweets.pkl\")\n",
    "test_tweets = pd.read_pickle(\"test_tweets.pkl\")"
   ]
  },
  {
   "cell_type": "markdown",
   "metadata": {},
   "source": [
    "Due to huge dataset I had to reduce the dataset to smaller size first to not waste time while running the program.\n",
    "I had to test a different size to find a balance between accuracy and speed before proceeding to apply them to classifiers\n",
    "and models. Reference to code work using smaller data text namely `small_train_tweets` and `small_test_tweets`. \n",
    "It was initially only taking the first 100k data from `train_tweets`. But when I use the entire train data I just pass it as:\n",
    "`small_train_tweets = train_tweets` so I don't have to change the other variables."
   ]
  },
  {
   "cell_type": "markdown",
   "metadata": {},
   "source": [
    "# Dataset processing"
   ]
  },
  {
   "cell_type": "markdown",
   "metadata": {},
   "source": [
    "I used the url below as reference for data cleaning and implemented their processes. I noticed we had slangs and typos in the data so I wanted to do fix spellings. Unfortunately, the speed was too slow and I was not even able to finish processing the data so I decided to not fix that but only:\n",
    "```\n",
    "remove mentions (words using @)\n",
    "remove html (words starting with <)\n",
    "remove hashtag (words starting with #)\n",
    "remove stopwords\n",
    "and use stemmer to make all words have the same tense\n",
    "```"
   ]
  },
  {
   "cell_type": "code",
   "execution_count": 230,
   "metadata": {},
   "outputs": [
    {
     "name": "stderr",
     "output_type": "stream",
     "text": [
      "[nltk_data] Downloading package stopwords to\n",
      "[nltk_data]     C:\\Users\\Owner\\AppData\\Roaming\\nltk_data...\n",
      "[nltk_data]   Package stopwords is already up-to-date!\n"
     ]
    }
   ],
   "source": [
    "# https://monkeylearn.com/blog/text-cleaning/ text cleaning reference\n",
    "import re\n",
    "import nltk.corpus\n",
    "nltk.download('stopwords')\n",
    "from nltk.corpus import stopwords\n",
    "from nltk.stem.porter import PorterStemmer\n",
    "from nltk.stem import WordNetLemmatizer\n",
    "from textblob import TextBlob\n",
    "\n",
    "\n",
    "small_train_tweets = train_tweets\n",
    "def correct_sentence_spelling(sentence):\n",
    "    \n",
    "    sentence = TextBlob(sentence)\n",
    "    \n",
    "    result = sentence.correct()\n",
    "    return str(result)\n",
    "def data_cleaning(tweet):\n",
    "#     tweet = correct_sentence_spelling(tweet); # too slow, not enough time\n",
    "    tweet = tweet.lower() # makes all lowercase\n",
    "    tweet = re.sub('[^ ]*@[^ ]*','', tweet) #remove mentions\n",
    "    tweet = re.sub('[^ ]*<[^ ]*', ' ', tweet) # remove html\n",
    "    tweet = re.sub(r'(\\s)#\\w+', r'\\1', tweet) #remove hashtag\n",
    "\n",
    "    \n",
    "    stop = stopwords.words('english')\n",
    "    tweet = \" \".join([word for word in tweet.split() if word not in (stop)]) # remove stop words\n",
    "    \n",
    "    stemmer = PorterStemmer() # make all words same tense, e.g change jumps to jump, jumped to jump\n",
    "    tweet = \" \".join([stemmer.stem(word) for word in tweet.split()])\n",
    "    return tweet\n",
    "small_train_tweets['text'] = small_train_tweets['text'].apply(lambda x: data_cleaning(x))\n",
    "# train_tweets['text'] = train_tweets['text'].apply(lambda x: data_cleaning(x))\n",
    "test_tweets['text'] = test_tweets['text'].apply(lambda x: data_cleaning(x))\n"
   ]
  },
  {
   "cell_type": "code",
   "execution_count": 12,
   "metadata": {
    "scrolled": true
   },
   "outputs": [
    {
     "name": "stdout",
     "output_type": "stream",
     "text": [
      "          _score           _crawldate                       hashtags  \\\n",
      "tweet_id                                                               \n",
      "0x376b20     391  2015-05-23 11:42:47                     [Snapchat]   \n",
      "0x2d5350     433  2016-01-28 04:52:09  [freepress, TrumpLegacy, CNN]   \n",
      "0x1cd5b0     376  2016-01-24 23:53:05                             []   \n",
      "0x1d755c     120  2015-06-11 04:44:05      [authentic, LaughOutLoud]   \n",
      "0x2c91a8    1021  2015-08-18 02:30:07                             []   \n",
      "...          ...                  ...                            ...   \n",
      "0x321566      94  2016-12-26 02:44:07              [NoWonder, Happy]   \n",
      "0x38959e     627  2015-04-01 08:14:56                             []   \n",
      "0x2cbca6     274  2016-11-17 23:46:22                     [blessyou]   \n",
      "0x24faed     840  2016-09-02 14:25:06                             []   \n",
      "0x34be8c     360  2016-11-16 01:40:07                  [Sundayvibes]   \n",
      "\n",
      "                                                       text identification  \\\n",
      "tweet_id                                                                     \n",
      "0x376b20  People who post \"add me on #Snapchat\" must be ...          train   \n",
      "0x2d5350  @brianklaas As we see, Trump is dangerous to #...          train   \n",
      "0x1cd5b0                Now ISSA is stalking Tasha 😂😂😂 <LH>          train   \n",
      "0x1d755c  @RISKshow @TheKevinAllison Thx for the BEST TI...          train   \n",
      "0x2c91a8       Still waiting on those supplies Liscus. <LH>          train   \n",
      "...                                                     ...            ...   \n",
      "0x321566  I'm SO HAPPY!!! #NoWonder the name of this sho...          train   \n",
      "0x38959e  In every circumtance I'd like to be thankful t...          train   \n",
      "0x2cbca6  there's currently two girls walking around the...          train   \n",
      "0x24faed  Ah, corporate life, where you can date <LH> us...          train   \n",
      "0x34be8c             Blessed to be living #Sundayvibes <LH>          train   \n",
      "\n",
      "               emotion  \n",
      "tweet_id                \n",
      "0x376b20  anticipation  \n",
      "0x2d5350       sadness  \n",
      "0x1cd5b0          fear  \n",
      "0x1d755c           joy  \n",
      "0x2c91a8  anticipation  \n",
      "...                ...  \n",
      "0x321566           joy  \n",
      "0x38959e           joy  \n",
      "0x2cbca6           joy  \n",
      "0x24faed           joy  \n",
      "0x34be8c           joy  \n",
      "\n",
      "[1455563 rows x 6 columns]\n"
     ]
    }
   ],
   "source": [
    "small_train_tweets = train_tweets # you can see here where I just assign all of train_tweets to small_train_tweets\n",
    "print(small_train_tweets)"
   ]
  },
  {
   "cell_type": "code",
   "execution_count": 62,
   "metadata": {
    "scrolled": true
   },
   "outputs": [
    {
     "name": "stderr",
     "output_type": "stream",
     "text": [
      "C:\\ProgramData\\Anaconda3\\envs\\tf_gpu\\lib\\site-packages\\sklearn\\feature_extraction\\text.py:524: UserWarning: The parameter 'token_pattern' will not be used since 'tokenizer' is not None'\n",
      "  warnings.warn(\n"
     ]
    },
    {
     "name": "stdout",
     "output_type": "stream",
     "text": [
      "fit finish\n",
      "transform finish\n"
     ]
    }
   ],
   "source": [
    "# tested different max features and seem to find that 50k / 60k was the best one so far\n",
    "# tried using tfidf but couldnt work\n",
    "from sklearn.feature_extraction.text import CountVectorizer, TfidfVectorizer\n",
    "import nltk\n",
    "BOW = CountVectorizer(max_features=60000, tokenizer=nltk.word_tokenize)\n",
    "BOW.fit(small_train_tweets['text'])\n",
    "print(\"fit finish\")\n",
    "small_train_tweets_BOW_features = BOW.transform(small_train_tweets['text'])\n",
    "print(\"transform finish\")\n",
    "X_train = small_train_tweets_BOW_features\n",
    "y_train = small_train_tweets['emotion']\n",
    "X_test = BOW.transform(test_tweets['text']) # REAL TEST VALUE"
   ]
  },
  {
   "cell_type": "markdown",
   "metadata": {},
   "source": [
    "Below we split data into train test split to give some validation data for our model. I tested multiple different test_sizes, I found that 0.01 was the optimal test_size, other sizes cause a decrease in accuracy.\n",
    "I then test using decision tree, bernoulli naive bayes and multinomial naive bayes and see how they perform respectively. (Not very good results)."
   ]
  },
  {
   "cell_type": "code",
   "execution_count": 81,
   "metadata": {},
   "outputs": [
    {
     "name": "stdout",
     "output_type": "stream",
     "text": [
      "(1441007, 60000)\n",
      "(14556, 60000)\n",
      "(1441007,)\n",
      "(14556,)\n"
     ]
    }
   ],
   "source": [
    "#train test split\n",
    "from sklearn.model_selection import train_test_split\n",
    "fakeX_train, fakeX_test, fakey_train, fakey_test = train_test_split(X_train, y_train, test_size=0.01, random_state=42)\n",
    "print(fakeX_train.shape)\n",
    "print(fakeX_test.shape)\n",
    "print(fakey_train.shape)\n",
    "print(fakey_test.shape)\n",
    "\n",
    "\n",
    "# # Decision Tree\n",
    "# from sklearn.tree import DecisionTreeClassifier\n",
    "# DTC = DecisionTreeClassifier(random_state=0)\n",
    "# DTC = DTC.fit(fakeX_train, fakey_train)\n",
    "# result = DTC.predict(fakeX_test)\n",
    "\n",
    "# #BernoulliNB\n",
    "# from sklearn.naive_bayes import BernoulliNB\n",
    "# BNB = BernoulliNB()\n",
    "# BNB.fit(fakeX_train, fakey_train) \n",
    "# result2 = BNB.predict(fakeX_test)\n",
    "\n",
    "# #MultinomialNB\n",
    "# from sklearn.naive_bayes import MultinomialNB\n",
    "# MNB = MultinomialNB()\n",
    "# MNB.fit(fakeX_train, fakey_train) \n",
    "# result3 = MNB.predict(fakeX_test)\n",
    "\n",
    "# #accuracy check\n",
    "# from sklearn.metrics import accuracy_score\n",
    "# DTC_score = accuracy_score(y_true=fakey_test, y_pred=result)\n",
    "# BNB_score = accuracy_score(y_true=fakey_test, y_pred=result2)\n",
    "# MNB_score = accuracy_score(y_true=fakey_test, y_pred=result3)\n",
    "# print(DTC_score)\n",
    "# print(BNB_score)\n",
    "# print(MNB_score)"
   ]
  },
  {
   "cell_type": "markdown",
   "metadata": {},
   "source": [
    "Here I encode the types of emotions to one hot encoding to be used in the model"
   ]
  },
  {
   "cell_type": "code",
   "execution_count": 82,
   "metadata": {
    "scrolled": true
   },
   "outputs": [
    {
     "name": "stdout",
     "output_type": "stream",
     "text": [
      "\n",
      "\n",
      "## After convert\n",
      "y_train[0:4]:\n",
      " [[0. 1. 0. 0. 0. 0. 0. 0.]\n",
      " [0. 0. 0. 0. 0. 1. 0. 0.]\n",
      " [0. 1. 0. 0. 0. 0. 0. 0.]\n",
      " [0. 0. 0. 0. 1. 0. 0. 0.]]\n",
      "\n",
      "y_train.shape:  (1441007, 8)\n",
      "y_test.shape:  (14556, 8)\n"
     ]
    }
   ],
   "source": [
    "from tensorflow import keras\n",
    "import numpy as np\n",
    "from sklearn.preprocessing import LabelEncoder\n",
    "label_encoder = LabelEncoder()\n",
    "label_encoder.fit(fakey_train)\n",
    "\n",
    "def label_encode(le, labels):\n",
    "    enc = le.transform(labels)\n",
    "    return keras.utils.to_categorical(enc)\n",
    "\n",
    "def label_decode(le, one_hot_label):\n",
    "    dec = np.argmax(one_hot_label, axis=1)\n",
    "    return le.inverse_transform(dec)\n",
    "\n",
    "fakey_train = label_encode(label_encoder, fakey_train)\n",
    "fakey_test = label_encode(label_encoder, fakey_test)\n",
    "\n",
    "print('\\n\\n## After convert')\n",
    "print('y_train[0:4]:\\n', fakey_train[0:4])\n",
    "print('\\ny_train.shape: ', fakey_train.shape)\n",
    "print('y_test.shape: ', fakey_test.shape)"
   ]
  },
  {
   "cell_type": "markdown",
   "metadata": {},
   "source": [
    "I tested various different models, starting from the original one we had from our lab2, then some with layer normalization and dropouts and even consider using regularizers. From my results, I found the best results were from the ones without regularizer but with dropout value. I also decided to use Adamax for the optimizer. (you can see my imports to see the things I had tried to use)"
   ]
  },
  {
   "cell_type": "code",
   "execution_count": 100,
   "metadata": {
    "scrolled": true
   },
   "outputs": [
    {
     "name": "stdout",
     "output_type": "stream",
     "text": [
      "Model: \"sequential_14\"\n",
      "_________________________________________________________________\n",
      "Layer (type)                 Output Shape              Param #   \n",
      "=================================================================\n",
      "dense_43 (Dense)             (1441007, 32)             1920032   \n",
      "_________________________________________________________________\n",
      "dropout_29 (Dropout)         (1441007, 32)             0         \n",
      "_________________________________________________________________\n",
      "dense_44 (Dense)             (1441007, 32)             1056      \n",
      "_________________________________________________________________\n",
      "dropout_30 (Dropout)         (1441007, 32)             0         \n",
      "_________________________________________________________________\n",
      "dense_45 (Dense)             (1441007, 8)              264       \n",
      "=================================================================\n",
      "Total params: 1,921,352\n",
      "Trainable params: 1,921,352\n",
      "Non-trainable params: 0\n",
      "_________________________________________________________________\n"
     ]
    }
   ],
   "source": [
    "# model building\n",
    "from tensorflow.keras.models import Model\n",
    "from tensorflow.keras.models import Sequential\n",
    "from tensorflow.keras.layers import Input, Dense\n",
    "from tensorflow.keras.layers import ReLU, Softmax\n",
    "from tensorflow.keras.layers import Dense, Dropout, BatchNormalization,Flatten, Activation, GlobalMaxPooling1D, Conv1D, LayerNormalization\n",
    "from tensorflow.keras.optimizers.schedules import ExponentialDecay\n",
    "from tensorflow.keras.optimizers import RMSprop, Adam, Adamax\n",
    "from tensorflow.keras import regularizers\n",
    "\n",
    "# input_shape = fakeX_train.shape[1]\n",
    "# output_shape = len(label_encoder.classes_)\n",
    "# # input layer\n",
    "# model_input = Input(shape=(input_shape, ))  # 500\n",
    "# X = model_input\n",
    "\n",
    "# # 1st hidden layer\n",
    "# X_W1 = Dense(units=64)(X)  # 64\n",
    "# H1 = ReLU()(X_W1)\n",
    "\n",
    "# # 2nd hidden layer\n",
    "# H1_W2 = Dense(units=64)(H1)  # 64\n",
    "# H2 = ReLU()(H1_W2)\n",
    "\n",
    "# # output layer\n",
    "# H2_W3 = Dense(units=output_shape)(H2)\n",
    "# H3 = Softmax()(H2_W3)\n",
    "\n",
    "# model_output = H3\n",
    "\n",
    "# # create model\n",
    "# model = Model(inputs=[model_input], outputs=[model_output])\n",
    "\n",
    "# loss function & optimizer\n",
    "# model.compile(optimizer='adam',\n",
    "#               loss='categorical_crossentropy',\n",
    "#               metrics=['accuracy'])\n",
    "\n",
    "# show model construction\n",
    "# model.summary()\n",
    "\n",
    "\n",
    "model = Sequential()\n",
    "# model.add(Dense(64, activation='elu', kernel_regularizer=regularizers.l2(0.001)))\n",
    "# model.add(Dropout(0.3))\n",
    "# model.add(LayerNormalization())\n",
    "# model.add(Dense(64, activation='relu',kernel_regularizer=regularizers.l2(0.001)))\n",
    "# model.add(Dropout(0.3))\n",
    "# model.add(LayerNormalization())\n",
    "\n",
    "# model.add(Dense(64, activation='elu', kernel_regularizer=regularizers.l2(0.001)))\n",
    "# model.add(Dropout(0.1))\n",
    "# model.add(Dense(64, activation='relu', kernel_regularizer=regularizers.l2(0.001)))\n",
    "# model.add(Dropout(0.1))\n",
    "# model.add(Dense(64, activation='elu', kernel_regularizer=regularizers.l2(0.001)))\n",
    "# model.add(Dropout(0.1))\n",
    "# model.add(Dense(64, activation='elu', kernel_regularizer=regularizers.l2(0.001)))\n",
    "# model.add(Dropout(0.1))\n",
    "model.add(Dense(32))\n",
    "model.add(Dropout(0.1))\n",
    "model.add(Dense(32))\n",
    "model.add(Dropout(0.1))\n",
    "model.add(Dense(8,activation='softmax'))\n",
    "\n",
    "# print(input_shape)\n",
    "model.build(fakeX_train.shape)\n",
    "model.summary()\n",
    "\n",
    "lr_schedule = ExponentialDecay(initial_learning_rate=1e-2,decay_steps=100000,decay_rate=0.9)\n",
    "optimizer = Adamax(learning_rate=lr_schedule)\n",
    "model.compile(optimizer=optimizer, loss='categorical_crossentropy', metrics=['accuracy'])"
   ]
  },
  {
   "cell_type": "markdown",
   "metadata": {},
   "source": [
    "I then have to find the best batch_size to use and epoch, sometimes as bigger batch_size it actually increase accuracy before decreasing. I would always use increments of doubling starting from 8 onwards (8, 16, 32, 64, 128, 256..etc).\n",
    "I use the CSVLogger to check the graph to see if there is still any potential in adding epochs. I would usually test values starting from 4 epoch to 10 epoch depending on each epoch duration. then increase the epoch if it has potential."
   ]
  },
  {
   "cell_type": "code",
   "execution_count": 101,
   "metadata": {
    "scrolled": true
   },
   "outputs": [
    {
     "name": "stdout",
     "output_type": "stream",
     "text": [
      "Epoch 1/10\n",
      "15011/15011 [==============================] - 78s 5ms/step - loss: 1.3456 - accuracy: 0.5184 - val_loss: 1.2482 - val_accuracy: 0.5519\n",
      "Epoch 2/10\n",
      "15011/15011 [==============================] - 79s 5ms/step - loss: 1.2275 - accuracy: 0.5626 - val_loss: 1.2307 - val_accuracy: 0.5611\n",
      "Epoch 3/10\n",
      "15011/15011 [==============================] - 73s 5ms/step - loss: 1.2000 - accuracy: 0.5723 - val_loss: 1.2223 - val_accuracy: 0.5619\n",
      "Epoch 4/10\n",
      "15011/15011 [==============================] - 80s 5ms/step - loss: 1.1854 - accuracy: 0.5780 - val_loss: 1.2232 - val_accuracy: 0.5629\n",
      "Epoch 5/10\n",
      "15011/15011 [==============================] - 80s 5ms/step - loss: 1.1771 - accuracy: 0.5810 - val_loss: 1.2202 - val_accuracy: 0.5667\n",
      "Epoch 6/10\n",
      "15011/15011 [==============================] - 79s 5ms/step - loss: 1.1686 - accuracy: 0.5841 - val_loss: 1.2254 - val_accuracy: 0.5618\n",
      "Epoch 7/10\n",
      "15011/15011 [==============================] - 78s 5ms/step - loss: 1.1628 - accuracy: 0.5864 - val_loss: 1.2216 - val_accuracy: 0.5632\n",
      "Epoch 8/10\n",
      "15011/15011 [==============================] - 75s 5ms/step - loss: 1.1587 - accuracy: 0.5872 - val_loss: 1.2255 - val_accuracy: 0.5668\n",
      "Epoch 9/10\n",
      "15011/15011 [==============================] - 75s 5ms/step - loss: 1.1561 - accuracy: 0.5886 - val_loss: 1.2231 - val_accuracy: 0.5641\n",
      "Epoch 10/10\n",
      "15011/15011 [==============================] - 76s 5ms/step - loss: 1.1528 - accuracy: 0.5896 - val_loss: 1.2273 - val_accuracy: 0.5642\n",
      "training finish\n"
     ]
    }
   ],
   "source": [
    "from tensorflow.keras.callbacks import CSVLogger\n",
    "csv_logger = CSVLogger('logs/training_log.csv')\n",
    "\n",
    "# training setting\n",
    "epochs = 10\n",
    "batch_size = 96\n",
    "\n",
    "# training!\n",
    "history = model.fit(fakeX_train, fakey_train, \n",
    "                    epochs=epochs, \n",
    "                    batch_size=batch_size, \n",
    "                    callbacks=[csv_logger],\n",
    "                    use_multiprocessing=True,\n",
    "                    validation_data = (fakeX_test, fakey_test)\n",
    "                       )\n",
    "print('training finish')"
   ]
  },
  {
   "cell_type": "code",
   "execution_count": 102,
   "metadata": {},
   "outputs": [
    {
     "name": "stdout",
     "output_type": "stream",
     "text": [
      "testing accuracy: 0.56\n"
     ]
    }
   ],
   "source": [
    "import numpy as np\n",
    "from sklearn.metrics import accuracy_score\n",
    "pred_result = model.predict(fakeX_test, batch_size=128)\n",
    "pred_result = label_decode(label_encoder, pred_result)\n",
    "print('testing accuracy: {}'.format(round(accuracy_score(label_decode(label_encoder, fakey_test), pred_result), 2)))"
   ]
  },
  {
   "cell_type": "code",
   "execution_count": 103,
   "metadata": {
    "scrolled": false
   },
   "outputs": [
    {
     "data": {
      "image/png": "[encoded data removed]",
      "text/plain": [
       "<Figure size 640x480 with 1 Axes>"
      ]
     },
     "metadata": {},
     "output_type": "display_data"
    },
    {
     "data": {
      "image/png": "[encoded data removed]",
      "text/plain": [
       "<Figure size 640x480 with 1 Axes>"
      ]
     },
     "metadata": {},
     "output_type": "display_data"
    }
   ],
   "source": [
    "import matplotlib.pyplot as plt\n",
    "\n",
    "training_log = pd.DataFrame()\n",
    "training_log = pd.read_csv(\"logs/training_log.csv\")\n",
    "training_log\n",
    "\n",
    "plt.plot(training_log['epoch'], training_log['accuracy'], 'b', label='Train Accuracy')\n",
    "plt.plot(training_log['epoch'], training_log['val_accuracy'], 'r', label='Val Accuracy') \n",
    "plt.title('Training Accuracy per Epoch')\n",
    "plt.xlabel('Epochs')\n",
    "plt.ylabel('Accuracy')\n",
    "plt.legend()\n",
    "plt.show()\n",
    "\n",
    "plt.plot(training_log['epoch'], training_log['loss'], 'b', label='Train Loss')\n",
    "plt.plot(training_log['epoch'], training_log['val_loss'], 'r', label='Val Loss') \n",
    "plt.title('Training Loss per Epoch')\n",
    "plt.xlabel('Epochs')\n",
    "plt.ylabel('Loss')\n",
    "plt.legend()\n",
    "plt.show()"
   ]
  },
  {
   "cell_type": "code",
   "execution_count": 104,
   "metadata": {
    "scrolled": true
   },
   "outputs": [
    {
     "name": "stdout",
     "output_type": "stream",
     "text": [
      "                id       emotion\n",
      "tweet_id                        \n",
      "0x28b412  0x28b412  anticipation\n",
      "0x2de201  0x2de201  anticipation\n",
      "0x218443  0x218443  anticipation\n",
      "0x2939d5  0x2939d5           joy\n",
      "0x26289a  0x26289a         trust\n",
      "...            ...           ...\n",
      "0x2913b4  0x2913b4  anticipation\n",
      "0x2a980e  0x2a980e  anticipation\n",
      "0x316b80  0x316b80  anticipation\n",
      "0x29d0cb  0x29d0cb           joy\n",
      "0x2a6a4f  0x2a6a4f       sadness\n",
      "\n",
      "[411972 rows x 2 columns]\n"
     ]
    }
   ],
   "source": [
    "# preparation and cleanup for kaggle submission\n",
    "final = model.predict(X_test, batch_size=128)\n",
    "final_decoded = label_decode(label_encoder, final)\n",
    "final_table = test_tweets.drop(columns=['_score', '_crawldate', 'hashtags', 'text', 'identification', 'emotion'])\n",
    "final_table['id'] = final_table.index\n",
    "final_table.insert(1, 'emotion',final_decoded)\n",
    "final_table.to_csv('submission.csv', index=False)\n",
    "print(final_table)"
   ]
  },
  {
   "cell_type": "markdown",
   "metadata": {},
   "source": [
    "When training a model with more parameter, using only the CPU tend to get slow, I had to change tensorflow to tensorflow-gpu\n",
    "to be able to use the gpu to save time when training larger models. It was a very complicated procedure and had to reinstall\n",
    "packages multiple times to finally get it working."
   ]
  },
  {
   "cell_type": "code",
   "execution_count": 53,
   "metadata": {},
   "outputs": [
    {
     "name": "stdout",
     "output_type": "stream",
     "text": [
      "WARNING:tensorflow:From C:\\Users\\Owner\\AppData\\Local\\Temp\\ipykernel_19840\\3326022288.py:2: is_gpu_available (from tensorflow.python.framework.test_util) is deprecated and will be removed in a future version.\n",
      "Instructions for updating:\n",
      "Use `tf.config.list_physical_devices('GPU')` instead.\n"
     ]
    },
    {
     "data": {
      "text/plain": [
       "True"
      ]
     },
     "execution_count": 53,
     "metadata": {},
     "output_type": "execute_result"
    }
   ],
   "source": [
    "# checks if GPU is enabled\n",
    "import tensorflow as tf\n",
    "tf.test.is_gpu_available()"
   ]
  },
  {
   "cell_type": "markdown",
   "metadata": {},
   "source": [
    "### Unused code section, tried using BERT but was not successful\n",
    "I also tried to use builtin BERT model but was not successful in implementing it to the usecase so I dropped it, below are some leftover code from trying to do so."
   ]
  },
  {
   "cell_type": "code",
   "execution_count": 56,
   "metadata": {
    "scrolled": true
   },
   "outputs": [],
   "source": [
    "import os\n",
    "import re\n",
    "import json\n",
    "import string\n",
    "from tensorflow.keras import layers\n",
    "from tokenizers import BertWordPieceTokenizer\n",
    "from transformers import BertTokenizer, TFBertModel, BertConfig\n",
    "\n",
    "max_len = 384\n",
    "configuration = BertConfig() \n",
    "\n",
    "\n",
    "slow_tokenizer = BertTokenizer.from_pretrained(\"bert-base-uncased\")\n",
    "save_path = \"bert_base_uncased/\"\n",
    "if not os.path.exists(save_path):\n",
    "    os.makedirs(save_path)\n",
    "slow_tokenizer.save_pretrained(save_path)\n",
    "\n",
    "# Load the fast tokenizer from saved file\n",
    "tokenizer = BertWordPieceTokenizer(\"bert_base_uncased/vocab.txt\", lowercase=True)"
   ]
  },
  {
   "cell_type": "code",
   "execution_count": 68,
   "metadata": {},
   "outputs": [],
   "source": [
    "def create_model():\n",
    "    ## BERT encoder\n",
    "    encoder = TFBertModel.from_pretrained(\"bert-base-uncased\")\n",
    "\n",
    "    ## QA Model\n",
    "    input_ids = layers.Input(shape=input_shape, dtype=tf.int32)\n",
    "    token_type_ids = layers.Input(shape=input_shape, dtype=tf.int32)\n",
    "    attention_mask = layers.Input(shape=input_shape, dtype=tf.int32)\n",
    "    embedding = encoder(\n",
    "        input_ids, token_type_ids=token_type_ids, attention_mask=attention_mask\n",
    "    )[0]\n",
    "\n",
    "    start_logits = layers.Dense(1, name=\"start_logit\", use_bias=False)(embedding)\n",
    "    start_logits = layers.Flatten()(start_logits)\n",
    "\n",
    "    end_logits = layers.Dense(1, name=\"end_logit\", use_bias=False)(embedding)\n",
    "    end_logits = layers.Flatten()(end_logits)\n",
    "\n",
    "    start_probs = layers.Activation(keras.activations.softmax)(start_logits)\n",
    "    end_probs = layers.Activation(keras.activations.softmax)(end_logits)\n",
    "\n",
    "    model = keras.Model(\n",
    "        inputs=input_shape,\n",
    "        outputs=output_shape,\n",
    "    )\n",
    "    loss = keras.losses.SparseCategoricalCrossentropy(from_logits=False)\n",
    "    optimizer = keras.optimizers.Adam(lr=5e-5)\n",
    "    model.compile(optimizer=optimizer, loss=[loss, loss])\n",
    "    return model"
   ]
  },
  {
   "cell_type": "code",
   "execution_count": 69,
   "metadata": {},
   "outputs": [
    {
     "name": "stderr",
     "output_type": "stream",
     "text": [
      "Some layers from the model checkpoint at bert-base-uncased were not used when initializing TFBertModel: ['nsp___cls', 'mlm___cls']\n",
      "- This IS expected if you are initializing TFBertModel from the checkpoint of a model trained on another task or with another architecture (e.g. initializing a BertForSequenceClassification model from a BertForPreTraining model).\n",
      "- This IS NOT expected if you are initializing TFBertModel from the checkpoint of a model that you expect to be exactly identical (initializing a BertForSequenceClassification model from a BertForSequenceClassification model).\n",
      "All the layers of TFBertModel were initialized from the model checkpoint at bert-base-uncased.\n",
      "If your task is similar to the task the model of the checkpoint was trained on, you can already use TFBertModel for predictions without further training.\n"
     ]
    },
    {
     "ename": "ValueError",
     "evalue": "Found unexpected instance while processing input tensors for keras functional model. Expecting KerasTensor which is from tf.keras.Input() or output from keras layer call(). Got: 1000",
     "output_type": "error",
     "traceback": [
      "\u001b[1;31m---------------------------------------------------------------------------\u001b[0m",
      "\u001b[1;31mValueError\u001b[0m                                Traceback (most recent call last)",
      "Cell \u001b[1;32mIn [69], line 11\u001b[0m\n\u001b[0;32m      9\u001b[0m         model \u001b[38;5;241m=\u001b[39m create_model()\n\u001b[0;32m     10\u001b[0m \u001b[38;5;28;01melse\u001b[39;00m:\n\u001b[1;32m---> 11\u001b[0m     model \u001b[38;5;241m=\u001b[39m create_model()\n\u001b[0;32m     13\u001b[0m model\u001b[38;5;241m.\u001b[39msummary()\n",
      "Cell \u001b[1;32mIn [68], line 22\u001b[0m, in \u001b[0;36mcreate_model\u001b[1;34m()\u001b[0m\n\u001b[0;32m     19\u001b[0m start_probs \u001b[38;5;241m=\u001b[39m layers\u001b[38;5;241m.\u001b[39mActivation(keras\u001b[38;5;241m.\u001b[39mactivations\u001b[38;5;241m.\u001b[39msoftmax)(start_logits)\n\u001b[0;32m     20\u001b[0m end_probs \u001b[38;5;241m=\u001b[39m layers\u001b[38;5;241m.\u001b[39mActivation(keras\u001b[38;5;241m.\u001b[39mactivations\u001b[38;5;241m.\u001b[39msoftmax)(end_logits)\n\u001b[1;32m---> 22\u001b[0m model \u001b[38;5;241m=\u001b[39m \u001b[43mkeras\u001b[49m\u001b[38;5;241;43m.\u001b[39;49m\u001b[43mModel\u001b[49m\u001b[43m(\u001b[49m\n\u001b[0;32m     23\u001b[0m \u001b[43m    \u001b[49m\u001b[43minputs\u001b[49m\u001b[38;5;241;43m=\u001b[39;49m\u001b[43minput_shape\u001b[49m\u001b[43m,\u001b[49m\n\u001b[0;32m     24\u001b[0m \u001b[43m    \u001b[49m\u001b[43moutputs\u001b[49m\u001b[38;5;241;43m=\u001b[39;49m\u001b[43moutput_shape\u001b[49m\u001b[43m,\u001b[49m\n\u001b[0;32m     25\u001b[0m \u001b[43m\u001b[49m\u001b[43m)\u001b[49m\n\u001b[0;32m     26\u001b[0m loss \u001b[38;5;241m=\u001b[39m keras\u001b[38;5;241m.\u001b[39mlosses\u001b[38;5;241m.\u001b[39mSparseCategoricalCrossentropy(from_logits\u001b[38;5;241m=\u001b[39m\u001b[38;5;28;01mFalse\u001b[39;00m)\n\u001b[0;32m     27\u001b[0m optimizer \u001b[38;5;241m=\u001b[39m keras\u001b[38;5;241m.\u001b[39moptimizers\u001b[38;5;241m.\u001b[39mAdam(lr\u001b[38;5;241m=\u001b[39m\u001b[38;5;241m5e-5\u001b[39m)\n",
      "File \u001b[1;32m~\\AppData\\Local\\Programs\\Python\\Python39\\lib\\site-packages\\tensorflow\\python\\trackable\\base.py:205\u001b[0m, in \u001b[0;36mno_automatic_dependency_tracking.<locals>._method_wrapper\u001b[1;34m(self, *args, **kwargs)\u001b[0m\n\u001b[0;32m    203\u001b[0m \u001b[38;5;28mself\u001b[39m\u001b[38;5;241m.\u001b[39m_self_setattr_tracking \u001b[38;5;241m=\u001b[39m \u001b[38;5;28;01mFalse\u001b[39;00m  \u001b[38;5;66;03m# pylint: disable=protected-access\u001b[39;00m\n\u001b[0;32m    204\u001b[0m \u001b[38;5;28;01mtry\u001b[39;00m:\n\u001b[1;32m--> 205\u001b[0m   result \u001b[38;5;241m=\u001b[39m method(\u001b[38;5;28mself\u001b[39m, \u001b[38;5;241m*\u001b[39margs, \u001b[38;5;241m*\u001b[39m\u001b[38;5;241m*\u001b[39mkwargs)\n\u001b[0;32m    206\u001b[0m \u001b[38;5;28;01mfinally\u001b[39;00m:\n\u001b[0;32m    207\u001b[0m   \u001b[38;5;28mself\u001b[39m\u001b[38;5;241m.\u001b[39m_self_setattr_tracking \u001b[38;5;241m=\u001b[39m previous_value  \u001b[38;5;66;03m# pylint: disable=protected-access\u001b[39;00m\n",
      "File \u001b[1;32m~\\AppData\\Local\\Programs\\Python\\Python39\\lib\\site-packages\\keras\\engine\\functional.py:157\u001b[0m, in \u001b[0;36mFunctional.__init__\u001b[1;34m(self, inputs, outputs, name, trainable, **kwargs)\u001b[0m\n\u001b[0;32m    151\u001b[0m \u001b[38;5;66;03m# Check if the inputs contain any intermediate `KerasTensor` (not\u001b[39;00m\n\u001b[0;32m    152\u001b[0m \u001b[38;5;66;03m# created by tf.keras.Input()). In this case we need to clone the `Node`\u001b[39;00m\n\u001b[0;32m    153\u001b[0m \u001b[38;5;66;03m# and `KerasTensor` objects to mimic rebuilding a new model from new\u001b[39;00m\n\u001b[0;32m    154\u001b[0m \u001b[38;5;66;03m# inputs.  This feature is only enabled in TF2 not in v1 graph mode.\u001b[39;00m\n\u001b[0;32m    155\u001b[0m \u001b[38;5;28;01mif\u001b[39;00m tf\u001b[38;5;241m.\u001b[39mcompat\u001b[38;5;241m.\u001b[39mv1\u001b[38;5;241m.\u001b[39mexecuting_eagerly_outside_functions():\n\u001b[0;32m    156\u001b[0m     \u001b[38;5;28;01mif\u001b[39;00m \u001b[38;5;129;01mnot\u001b[39;00m \u001b[38;5;28mall\u001b[39m(\n\u001b[1;32m--> 157\u001b[0m         [\n\u001b[0;32m    158\u001b[0m             functional_utils\u001b[38;5;241m.\u001b[39mis_input_keras_tensor(t)\n\u001b[0;32m    159\u001b[0m             \u001b[38;5;28;01mfor\u001b[39;00m t \u001b[38;5;129;01min\u001b[39;00m tf\u001b[38;5;241m.\u001b[39mnest\u001b[38;5;241m.\u001b[39mflatten(inputs)\n\u001b[0;32m    160\u001b[0m         ]\n\u001b[0;32m    161\u001b[0m     ):\n\u001b[0;32m    162\u001b[0m         inputs, outputs \u001b[38;5;241m=\u001b[39m functional_utils\u001b[38;5;241m.\u001b[39mclone_graph_nodes(\n\u001b[0;32m    163\u001b[0m             inputs, outputs\n\u001b[0;32m    164\u001b[0m         )\n\u001b[0;32m    165\u001b[0m \u001b[38;5;28mself\u001b[39m\u001b[38;5;241m.\u001b[39m_init_graph_network(inputs, outputs)\n",
      "File \u001b[1;32m~\\AppData\\Local\\Programs\\Python\\Python39\\lib\\site-packages\\keras\\engine\\functional.py:158\u001b[0m, in \u001b[0;36m<listcomp>\u001b[1;34m(.0)\u001b[0m\n\u001b[0;32m    151\u001b[0m \u001b[38;5;66;03m# Check if the inputs contain any intermediate `KerasTensor` (not\u001b[39;00m\n\u001b[0;32m    152\u001b[0m \u001b[38;5;66;03m# created by tf.keras.Input()). In this case we need to clone the `Node`\u001b[39;00m\n\u001b[0;32m    153\u001b[0m \u001b[38;5;66;03m# and `KerasTensor` objects to mimic rebuilding a new model from new\u001b[39;00m\n\u001b[0;32m    154\u001b[0m \u001b[38;5;66;03m# inputs.  This feature is only enabled in TF2 not in v1 graph mode.\u001b[39;00m\n\u001b[0;32m    155\u001b[0m \u001b[38;5;28;01mif\u001b[39;00m tf\u001b[38;5;241m.\u001b[39mcompat\u001b[38;5;241m.\u001b[39mv1\u001b[38;5;241m.\u001b[39mexecuting_eagerly_outside_functions():\n\u001b[0;32m    156\u001b[0m     \u001b[38;5;28;01mif\u001b[39;00m \u001b[38;5;129;01mnot\u001b[39;00m \u001b[38;5;28mall\u001b[39m(\n\u001b[0;32m    157\u001b[0m         [\n\u001b[1;32m--> 158\u001b[0m             \u001b[43mfunctional_utils\u001b[49m\u001b[38;5;241;43m.\u001b[39;49m\u001b[43mis_input_keras_tensor\u001b[49m\u001b[43m(\u001b[49m\u001b[43mt\u001b[49m\u001b[43m)\u001b[49m\n\u001b[0;32m    159\u001b[0m             \u001b[38;5;28;01mfor\u001b[39;00m t \u001b[38;5;129;01min\u001b[39;00m tf\u001b[38;5;241m.\u001b[39mnest\u001b[38;5;241m.\u001b[39mflatten(inputs)\n\u001b[0;32m    160\u001b[0m         ]\n\u001b[0;32m    161\u001b[0m     ):\n\u001b[0;32m    162\u001b[0m         inputs, outputs \u001b[38;5;241m=\u001b[39m functional_utils\u001b[38;5;241m.\u001b[39mclone_graph_nodes(\n\u001b[0;32m    163\u001b[0m             inputs, outputs\n\u001b[0;32m    164\u001b[0m         )\n\u001b[0;32m    165\u001b[0m \u001b[38;5;28mself\u001b[39m\u001b[38;5;241m.\u001b[39m_init_graph_network(inputs, outputs)\n",
      "File \u001b[1;32m~\\AppData\\Local\\Programs\\Python\\Python39\\lib\\site-packages\\keras\\engine\\functional_utils.py:48\u001b[0m, in \u001b[0;36mis_input_keras_tensor\u001b[1;34m(tensor)\u001b[0m\n\u001b[0;32m     32\u001b[0m \u001b[38;5;124;03m\"\"\"Check if tensor is directly generated from `tf.keras.Input`.\u001b[39;00m\n\u001b[0;32m     33\u001b[0m \n\u001b[0;32m     34\u001b[0m \u001b[38;5;124;03mThis check is useful when constructing the functional model, since we will\u001b[39;00m\n\u001b[1;32m   (...)\u001b[0m\n\u001b[0;32m     45\u001b[0m \u001b[38;5;124;03m  ValueError: if the tensor is not a KerasTensor instance.\u001b[39;00m\n\u001b[0;32m     46\u001b[0m \u001b[38;5;124;03m\"\"\"\u001b[39;00m\n\u001b[0;32m     47\u001b[0m \u001b[38;5;28;01mif\u001b[39;00m \u001b[38;5;129;01mnot\u001b[39;00m node_module\u001b[38;5;241m.\u001b[39mis_keras_tensor(tensor):\n\u001b[1;32m---> 48\u001b[0m     \u001b[38;5;28;01mraise\u001b[39;00m \u001b[38;5;167;01mValueError\u001b[39;00m(_KERAS_TENSOR_TYPE_CHECK_ERROR_MSG\u001b[38;5;241m.\u001b[39mformat(tensor))\n\u001b[0;32m     49\u001b[0m \u001b[38;5;28;01mreturn\u001b[39;00m tensor\u001b[38;5;241m.\u001b[39mnode\u001b[38;5;241m.\u001b[39mis_input\n",
      "\u001b[1;31mValueError\u001b[0m: Found unexpected instance while processing input tensors for keras functional model. Expecting KerasTensor which is from tf.keras.Input() or output from keras layer call(). Got: 1000"
     ]
    }
   ],
   "source": [
    "use_tpu = False\n",
    "if use_tpu:\n",
    "    # Create distribution strategy\n",
    "    tpu = tf.distribute.cluster_resolver.TPUClusterResolver.connect()\n",
    "    strategy = tf.distribute.TPUStrategy(tpu)\n",
    "\n",
    "    # Create model\n",
    "    with strategy.scope():\n",
    "        model = create_model()\n",
    "else:\n",
    "    model = create_model()\n",
    "\n",
    "model.summary()"
   ]
  },
  {
   "cell_type": "code",
   "execution_count": null,
   "metadata": {},
   "outputs": [],
   "source": [
    "model.fit(\n",
    "    fakeX_train,\n",
    "    fakey_train,\n",
    "    epochs=3,\n",
    "    verbose=2,\n",
    "    batch_size=64,\n",
    ")"
   ]
  },
  {
   "cell_type": "code",
   "execution_count": null,
   "metadata": {},
   "outputs": [],
   "source": []
  }
 ],
 "metadata": {
  "kernelspec": {
   "display_name": "TensorFlowGPU",
   "language": "python",
   "name": "tf_gpu"
  },
  "language_info": {
   "codemirror_mode": {
    "name": "ipython",
    "version": 3
   },
   "file_extension": ".py",
   "mimetype": "text/x-python",
   "name": "python",
   "nbconvert_exporter": "python",
   "pygments_lexer": "ipython3",
   "version": "3.8.0"
  },
  "varInspector": {
   "cols": {
    "lenName": 16,
    "lenType": 16,
    "lenVar": 40
   },
   "kernels_config": {
    "python": {
     "delete_cmd_postfix": "",
     "delete_cmd_prefix": "del ",
     "library": "var_list.py",
     "varRefreshCmd": "print(var_dic_list())"
    },
    "r": {
     "delete_cmd_postfix": ") ",
     "delete_cmd_prefix": "rm(",
     "library": "var_list.r",
     "varRefreshCmd": "cat(var_dic_list()) "
    }
   },
   "types_to_exclude": [
    "module",
    "function",
    "builtin_function_or_method",
    "instance",
    "_Feature"
   ],
   "window_display": false
  }
 },
 "nbformat": 4,
 "nbformat_minor": 2
}
